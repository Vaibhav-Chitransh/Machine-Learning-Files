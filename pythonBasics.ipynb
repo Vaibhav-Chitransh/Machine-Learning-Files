{
  "nbformat": 4,
  "nbformat_minor": 0,
  "metadata": {
    "colab": {
      "provenance": [],
      "authorship_tag": "ABX9TyNP82QUdLTvtuw0JKUm2wV4"
    },
    "kernelspec": {
      "name": "python3",
      "display_name": "Python 3"
    },
    "language_info": {
      "name": "python"
    }
  },
  "cells": [
    {
      "cell_type": "code",
      "execution_count": null,
      "metadata": {
        "colab": {
          "base_uri": "https://localhost:8080/"
        },
        "id": "__TPdImexy7R",
        "outputId": "3d3e318a-9c99-4ca7-98dd-fe26c0272d72"
      },
      "outputs": [
        {
          "output_type": "stream",
          "name": "stdout",
          "text": [
            "125.0\n"
          ]
        }
      ],
      "source": [
        "cost = 1.25\n",
        "profit_margin = 0.2\n",
        "bags = 500\n",
        "\n",
        "total_profit = cost*profit_margin*bags\n",
        "print(total_profit)"
      ]
    },
    {
      "cell_type": "code",
      "source": [
        "flag = True\n",
        "print(type(flag))"
      ],
      "metadata": {
        "colab": {
          "base_uri": "https://localhost:8080/"
        },
        "id": "ojiR343yzXEX",
        "outputId": "78c15a5e-708d-40ee-8b03-5eddbcb32d7e"
      },
      "execution_count": null,
      "outputs": [
        {
          "output_type": "stream",
          "name": "stdout",
          "text": [
            "<class 'bool'>\n"
          ]
        }
      ]
    },
    {
      "cell_type": "code",
      "source": [
        "a = int(input(\"Enter the value of a: \"))\n",
        "print(a)"
      ],
      "metadata": {
        "colab": {
          "base_uri": "https://localhost:8080/"
        },
        "id": "kFkcA6WSzXme",
        "outputId": "f6ac4f4c-d85f-4037-9af1-01392ac4795b"
      },
      "execution_count": null,
      "outputs": [
        {
          "output_type": "stream",
          "name": "stdout",
          "text": [
            "Enter the value of a: 5\n",
            "5\n"
          ]
        }
      ]
    },
    {
      "cell_type": "code",
      "source": [
        "val = int(input(\"Enter the value: \"))\n",
        "print(\"The answer is = \", val+(val*val)+(val*val*val))"
      ],
      "metadata": {
        "colab": {
          "base_uri": "https://localhost:8080/"
        },
        "id": "j4btdfTc0Nnv",
        "outputId": "ba4a2f28-5585-4775-b891-e2f7b251a413"
      },
      "execution_count": null,
      "outputs": [
        {
          "output_type": "stream",
          "name": "stdout",
          "text": [
            "Enter the value: 8\n",
            "The answer is =  584\n"
          ]
        }
      ]
    },
    {
      "cell_type": "code",
      "source": [
        "temp = int(input(\"Enter the temperature in fahrenheit: \"))\n",
        "celc_temp = 9*temp/5 + 32\n",
        "\n",
        "print(\"The temperature in celcius is \", celc_temp)"
      ],
      "metadata": {
        "colab": {
          "base_uri": "https://localhost:8080/"
        },
        "id": "BrZlkAmj1PTI",
        "outputId": "e0d7908e-ae09-4c81-992c-d3636ed76342"
      },
      "execution_count": null,
      "outputs": [
        {
          "output_type": "stream",
          "name": "stdout",
          "text": [
            "Enter the temperature in fahrenheit: -40\n",
            "The temperature in celcius is  -40.0\n"
          ]
        }
      ]
    },
    {
      "cell_type": "code",
      "source": [
        "wt = int(input(\"Enter the weight \"))\n",
        "ht = float(input(\"Enter the height \"))\n",
        "\n",
        "bmi = wt/(ht*ht)\n",
        "print(\"The BMI is \", bmi)"
      ],
      "metadata": {
        "colab": {
          "base_uri": "https://localhost:8080/"
        },
        "id": "VY0sVG031PnP",
        "outputId": "e4ec1a57-0e2a-4687-f8a0-95d182892120"
      },
      "execution_count": null,
      "outputs": [
        {
          "output_type": "stream",
          "name": "stdout",
          "text": [
            "Enter the weight 60\n",
            "Enter the height 1.6\n",
            "The BMI is  23.437499999999996\n"
          ]
        }
      ]
    },
    {
      "cell_type": "code",
      "source": [
        "x1 = int(input(\"Enter the x1 \"))\n",
        "x2 = int(input(\"Enter the x2 \"))\n",
        "y1 = int(input(\"Enter the y1 \"))\n",
        "y2 = int(input(\"Enter the y2 \"))\n",
        "\n",
        "dist = ((x2-x1)**2 + (y2-y1)**2)**0.5\n",
        "print(\"The distance between these points is \", dist)"
      ],
      "metadata": {
        "colab": {
          "base_uri": "https://localhost:8080/"
        },
        "id": "EFiR0CTe0OAH",
        "outputId": "56e2bea7-7361-4fff-d619-785d32fb735d"
      },
      "execution_count": null,
      "outputs": [
        {
          "output_type": "stream",
          "name": "stdout",
          "text": [
            "Enter the x1 0\n",
            "Enter the x2 3\n",
            "Enter the y1 4\n",
            "Enter the y2 0\n",
            "The distance between these points is  5.0\n"
          ]
        }
      ]
    },
    {
      "cell_type": "code",
      "source": [],
      "metadata": {
        "id": "nwaXH-Iv5CMg"
      },
      "execution_count": null,
      "outputs": []
    },
    {
      "cell_type": "code",
      "source": [],
      "metadata": {
        "id": "Y0Zn465L5CPQ"
      },
      "execution_count": null,
      "outputs": []
    },
    {
      "cell_type": "code",
      "source": [],
      "metadata": {
        "id": "zL-jouVB5CSw"
      },
      "execution_count": null,
      "outputs": []
    }
  ]
}
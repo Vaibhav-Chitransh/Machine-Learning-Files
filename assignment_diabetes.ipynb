{
  "nbformat": 4,
  "nbformat_minor": 0,
  "metadata": {
    "colab": {
      "provenance": [],
      "authorship_tag": "ABX9TyOAdxZEDqNwAsnbttXkj01U"
    },
    "kernelspec": {
      "name": "python3",
      "display_name": "Python 3"
    },
    "language_info": {
      "name": "python"
    }
  },
  "cells": [
    {
      "cell_type": "markdown",
      "source": [
        "Created by:-\n",
        "\n",
        "*   Vaibhav Chitransh\n",
        "*   Id:-2022UME1836\n",
        "\n",
        "\n"
      ],
      "metadata": {
        "id": "PavVTXZDcuuZ"
      }
    },
    {
      "cell_type": "markdown",
      "source": [
        "Prediction of Diabetes by implementing different Models\n",
        "\n",
        "*   Linear Regression\n",
        "*   KNN Algorithm\n",
        "\n",
        "\n"
      ],
      "metadata": {
        "id": "g8ui1tHwbz8u"
      }
    },
    {
      "cell_type": "code",
      "execution_count": 1,
      "metadata": {
        "id": "p30W07IeQ-Lk"
      },
      "outputs": [],
      "source": [
        "# Importing libraries\n",
        "import numpy as np\n",
        "import pandas as pd\n",
        "import matplotlib as plt\n",
        "from sklearn.preprocessing import StandardScaler\n",
        "from sklearn.preprocessing import MinMaxScaler\n",
        "from sklearn.model_selection import train_test_split\n",
        "from sklearn.linear_model import LinearRegression\n",
        "from sklearn.neighbors import KNeighborsClassifier\n",
        "from sklearn.metrics import r2_score, accuracy_score, confusion_matrix"
      ]
    },
    {
      "cell_type": "code",
      "source": [
        "# Importing diabetes csv file\n",
        "df=pd.read_csv(\"/content/diabetes.csv\")"
      ],
      "metadata": {
        "id": "lPEgQC6NS9UF"
      },
      "execution_count": 4,
      "outputs": []
    },
    {
      "cell_type": "code",
      "source": [
        "df.info()"
      ],
      "metadata": {
        "colab": {
          "base_uri": "https://localhost:8080/"
        },
        "id": "Re_cRjLMS-Xe",
        "outputId": "e8288923-783d-4705-b313-f9090bc5ba03"
      },
      "execution_count": 5,
      "outputs": [
        {
          "output_type": "stream",
          "name": "stdout",
          "text": [
            "<class 'pandas.core.frame.DataFrame'>\n",
            "RangeIndex: 573 entries, 0 to 572\n",
            "Data columns (total 6 columns):\n",
            " #   Column                    Non-Null Count  Dtype  \n",
            "---  ------                    --------------  -----  \n",
            " 0   Glucose                   573 non-null    int64  \n",
            " 1   BloodPressure             561 non-null    float64\n",
            " 2   BMI                       570 non-null    float64\n",
            " 3   DiabetesPedigreeFunction  573 non-null    float64\n",
            " 4   Age                       573 non-null    int64  \n",
            " 5   Outcome                   573 non-null    int64  \n",
            "dtypes: float64(3), int64(3)\n",
            "memory usage: 27.0 KB\n"
          ]
        }
      ]
    },
    {
      "cell_type": "code",
      "source": [
        "df.shape"
      ],
      "metadata": {
        "colab": {
          "base_uri": "https://localhost:8080/"
        },
        "id": "C3Xv5DtoTH3r",
        "outputId": "fcf658a8-9547-4a8c-928d-6d0f550afa4c"
      },
      "execution_count": 6,
      "outputs": [
        {
          "output_type": "execute_result",
          "data": {
            "text/plain": [
              "(573, 6)"
            ]
          },
          "metadata": {},
          "execution_count": 6
        }
      ]
    },
    {
      "cell_type": "code",
      "source": [
        "df.head()"
      ],
      "metadata": {
        "colab": {
          "base_uri": "https://localhost:8080/",
          "height": 206
        },
        "id": "nYXC_Yv0TM1j",
        "outputId": "49c6e7fe-1ee7-4249-dfe5-26967b3e737b"
      },
      "execution_count": 7,
      "outputs": [
        {
          "output_type": "execute_result",
          "data": {
            "text/plain": [
              "   Glucose  BloodPressure   BMI  DiabetesPedigreeFunction  Age  Outcome\n",
              "0       89           66.0  28.1                     0.167   21        0\n",
              "1      137           40.0  43.1                     2.288   33        1\n",
              "2       78           50.0  31.0                     0.248   26        1\n",
              "3      197           70.0  30.5                     0.158   53        1\n",
              "4      110           92.0  37.6                     0.191   30        0"
            ],
            "text/html": [
              "\n",
              "  <div id=\"df-2e70e36e-4113-4374-b144-4dcb2ae9c2b8\" class=\"colab-df-container\">\n",
              "    <div>\n",
              "<style scoped>\n",
              "    .dataframe tbody tr th:only-of-type {\n",
              "        vertical-align: middle;\n",
              "    }\n",
              "\n",
              "    .dataframe tbody tr th {\n",
              "        vertical-align: top;\n",
              "    }\n",
              "\n",
              "    .dataframe thead th {\n",
              "        text-align: right;\n",
              "    }\n",
              "</style>\n",
              "<table border=\"1\" class=\"dataframe\">\n",
              "  <thead>\n",
              "    <tr style=\"text-align: right;\">\n",
              "      <th></th>\n",
              "      <th>Glucose</th>\n",
              "      <th>BloodPressure</th>\n",
              "      <th>BMI</th>\n",
              "      <th>DiabetesPedigreeFunction</th>\n",
              "      <th>Age</th>\n",
              "      <th>Outcome</th>\n",
              "    </tr>\n",
              "  </thead>\n",
              "  <tbody>\n",
              "    <tr>\n",
              "      <th>0</th>\n",
              "      <td>89</td>\n",
              "      <td>66.0</td>\n",
              "      <td>28.1</td>\n",
              "      <td>0.167</td>\n",
              "      <td>21</td>\n",
              "      <td>0</td>\n",
              "    </tr>\n",
              "    <tr>\n",
              "      <th>1</th>\n",
              "      <td>137</td>\n",
              "      <td>40.0</td>\n",
              "      <td>43.1</td>\n",
              "      <td>2.288</td>\n",
              "      <td>33</td>\n",
              "      <td>1</td>\n",
              "    </tr>\n",
              "    <tr>\n",
              "      <th>2</th>\n",
              "      <td>78</td>\n",
              "      <td>50.0</td>\n",
              "      <td>31.0</td>\n",
              "      <td>0.248</td>\n",
              "      <td>26</td>\n",
              "      <td>1</td>\n",
              "    </tr>\n",
              "    <tr>\n",
              "      <th>3</th>\n",
              "      <td>197</td>\n",
              "      <td>70.0</td>\n",
              "      <td>30.5</td>\n",
              "      <td>0.158</td>\n",
              "      <td>53</td>\n",
              "      <td>1</td>\n",
              "    </tr>\n",
              "    <tr>\n",
              "      <th>4</th>\n",
              "      <td>110</td>\n",
              "      <td>92.0</td>\n",
              "      <td>37.6</td>\n",
              "      <td>0.191</td>\n",
              "      <td>30</td>\n",
              "      <td>0</td>\n",
              "    </tr>\n",
              "  </tbody>\n",
              "</table>\n",
              "</div>\n",
              "    <div class=\"colab-df-buttons\">\n",
              "\n",
              "  <div class=\"colab-df-container\">\n",
              "    <button class=\"colab-df-convert\" onclick=\"convertToInteractive('df-2e70e36e-4113-4374-b144-4dcb2ae9c2b8')\"\n",
              "            title=\"Convert this dataframe to an interactive table.\"\n",
              "            style=\"display:none;\">\n",
              "\n",
              "  <svg xmlns=\"http://www.w3.org/2000/svg\" height=\"24px\" viewBox=\"0 -960 960 960\">\n",
              "    <path d=\"M120-120v-720h720v720H120Zm60-500h600v-160H180v160Zm220 220h160v-160H400v160Zm0 220h160v-160H400v160ZM180-400h160v-160H180v160Zm440 0h160v-160H620v160ZM180-180h160v-160H180v160Zm440 0h160v-160H620v160Z\"/>\n",
              "  </svg>\n",
              "    </button>\n",
              "\n",
              "  <style>\n",
              "    .colab-df-container {\n",
              "      display:flex;\n",
              "      gap: 12px;\n",
              "    }\n",
              "\n",
              "    .colab-df-convert {\n",
              "      background-color: #E8F0FE;\n",
              "      border: none;\n",
              "      border-radius: 50%;\n",
              "      cursor: pointer;\n",
              "      display: none;\n",
              "      fill: #1967D2;\n",
              "      height: 32px;\n",
              "      padding: 0 0 0 0;\n",
              "      width: 32px;\n",
              "    }\n",
              "\n",
              "    .colab-df-convert:hover {\n",
              "      background-color: #E2EBFA;\n",
              "      box-shadow: 0px 1px 2px rgba(60, 64, 67, 0.3), 0px 1px 3px 1px rgba(60, 64, 67, 0.15);\n",
              "      fill: #174EA6;\n",
              "    }\n",
              "\n",
              "    .colab-df-buttons div {\n",
              "      margin-bottom: 4px;\n",
              "    }\n",
              "\n",
              "    [theme=dark] .colab-df-convert {\n",
              "      background-color: #3B4455;\n",
              "      fill: #D2E3FC;\n",
              "    }\n",
              "\n",
              "    [theme=dark] .colab-df-convert:hover {\n",
              "      background-color: #434B5C;\n",
              "      box-shadow: 0px 1px 3px 1px rgba(0, 0, 0, 0.15);\n",
              "      filter: drop-shadow(0px 1px 2px rgba(0, 0, 0, 0.3));\n",
              "      fill: #FFFFFF;\n",
              "    }\n",
              "  </style>\n",
              "\n",
              "    <script>\n",
              "      const buttonEl =\n",
              "        document.querySelector('#df-2e70e36e-4113-4374-b144-4dcb2ae9c2b8 button.colab-df-convert');\n",
              "      buttonEl.style.display =\n",
              "        google.colab.kernel.accessAllowed ? 'block' : 'none';\n",
              "\n",
              "      async function convertToInteractive(key) {\n",
              "        const element = document.querySelector('#df-2e70e36e-4113-4374-b144-4dcb2ae9c2b8');\n",
              "        const dataTable =\n",
              "          await google.colab.kernel.invokeFunction('convertToInteractive',\n",
              "                                                    [key], {});\n",
              "        if (!dataTable) return;\n",
              "\n",
              "        const docLinkHtml = 'Like what you see? Visit the ' +\n",
              "          '<a target=\"_blank\" href=https://colab.research.google.com/notebooks/data_table.ipynb>data table notebook</a>'\n",
              "          + ' to learn more about interactive tables.';\n",
              "        element.innerHTML = '';\n",
              "        dataTable['output_type'] = 'display_data';\n",
              "        await google.colab.output.renderOutput(dataTable, element);\n",
              "        const docLink = document.createElement('div');\n",
              "        docLink.innerHTML = docLinkHtml;\n",
              "        element.appendChild(docLink);\n",
              "      }\n",
              "    </script>\n",
              "  </div>\n",
              "\n",
              "\n",
              "<div id=\"df-4ef4833e-ec4c-4255-9c65-ad628e5f92cd\">\n",
              "  <button class=\"colab-df-quickchart\" onclick=\"quickchart('df-4ef4833e-ec4c-4255-9c65-ad628e5f92cd')\"\n",
              "            title=\"Suggest charts\"\n",
              "            style=\"display:none;\">\n",
              "\n",
              "<svg xmlns=\"http://www.w3.org/2000/svg\" height=\"24px\"viewBox=\"0 0 24 24\"\n",
              "     width=\"24px\">\n",
              "    <g>\n",
              "        <path d=\"M19 3H5c-1.1 0-2 .9-2 2v14c0 1.1.9 2 2 2h14c1.1 0 2-.9 2-2V5c0-1.1-.9-2-2-2zM9 17H7v-7h2v7zm4 0h-2V7h2v10zm4 0h-2v-4h2v4z\"/>\n",
              "    </g>\n",
              "</svg>\n",
              "  </button>\n",
              "\n",
              "<style>\n",
              "  .colab-df-quickchart {\n",
              "      --bg-color: #E8F0FE;\n",
              "      --fill-color: #1967D2;\n",
              "      --hover-bg-color: #E2EBFA;\n",
              "      --hover-fill-color: #174EA6;\n",
              "      --disabled-fill-color: #AAA;\n",
              "      --disabled-bg-color: #DDD;\n",
              "  }\n",
              "\n",
              "  [theme=dark] .colab-df-quickchart {\n",
              "      --bg-color: #3B4455;\n",
              "      --fill-color: #D2E3FC;\n",
              "      --hover-bg-color: #434B5C;\n",
              "      --hover-fill-color: #FFFFFF;\n",
              "      --disabled-bg-color: #3B4455;\n",
              "      --disabled-fill-color: #666;\n",
              "  }\n",
              "\n",
              "  .colab-df-quickchart {\n",
              "    background-color: var(--bg-color);\n",
              "    border: none;\n",
              "    border-radius: 50%;\n",
              "    cursor: pointer;\n",
              "    display: none;\n",
              "    fill: var(--fill-color);\n",
              "    height: 32px;\n",
              "    padding: 0;\n",
              "    width: 32px;\n",
              "  }\n",
              "\n",
              "  .colab-df-quickchart:hover {\n",
              "    background-color: var(--hover-bg-color);\n",
              "    box-shadow: 0 1px 2px rgba(60, 64, 67, 0.3), 0 1px 3px 1px rgba(60, 64, 67, 0.15);\n",
              "    fill: var(--button-hover-fill-color);\n",
              "  }\n",
              "\n",
              "  .colab-df-quickchart-complete:disabled,\n",
              "  .colab-df-quickchart-complete:disabled:hover {\n",
              "    background-color: var(--disabled-bg-color);\n",
              "    fill: var(--disabled-fill-color);\n",
              "    box-shadow: none;\n",
              "  }\n",
              "\n",
              "  .colab-df-spinner {\n",
              "    border: 2px solid var(--fill-color);\n",
              "    border-color: transparent;\n",
              "    border-bottom-color: var(--fill-color);\n",
              "    animation:\n",
              "      spin 1s steps(1) infinite;\n",
              "  }\n",
              "\n",
              "  @keyframes spin {\n",
              "    0% {\n",
              "      border-color: transparent;\n",
              "      border-bottom-color: var(--fill-color);\n",
              "      border-left-color: var(--fill-color);\n",
              "    }\n",
              "    20% {\n",
              "      border-color: transparent;\n",
              "      border-left-color: var(--fill-color);\n",
              "      border-top-color: var(--fill-color);\n",
              "    }\n",
              "    30% {\n",
              "      border-color: transparent;\n",
              "      border-left-color: var(--fill-color);\n",
              "      border-top-color: var(--fill-color);\n",
              "      border-right-color: var(--fill-color);\n",
              "    }\n",
              "    40% {\n",
              "      border-color: transparent;\n",
              "      border-right-color: var(--fill-color);\n",
              "      border-top-color: var(--fill-color);\n",
              "    }\n",
              "    60% {\n",
              "      border-color: transparent;\n",
              "      border-right-color: var(--fill-color);\n",
              "    }\n",
              "    80% {\n",
              "      border-color: transparent;\n",
              "      border-right-color: var(--fill-color);\n",
              "      border-bottom-color: var(--fill-color);\n",
              "    }\n",
              "    90% {\n",
              "      border-color: transparent;\n",
              "      border-bottom-color: var(--fill-color);\n",
              "    }\n",
              "  }\n",
              "</style>\n",
              "\n",
              "  <script>\n",
              "    async function quickchart(key) {\n",
              "      const quickchartButtonEl =\n",
              "        document.querySelector('#' + key + ' button');\n",
              "      quickchartButtonEl.disabled = true;  // To prevent multiple clicks.\n",
              "      quickchartButtonEl.classList.add('colab-df-spinner');\n",
              "      try {\n",
              "        const charts = await google.colab.kernel.invokeFunction(\n",
              "            'suggestCharts', [key], {});\n",
              "      } catch (error) {\n",
              "        console.error('Error during call to suggestCharts:', error);\n",
              "      }\n",
              "      quickchartButtonEl.classList.remove('colab-df-spinner');\n",
              "      quickchartButtonEl.classList.add('colab-df-quickchart-complete');\n",
              "    }\n",
              "    (() => {\n",
              "      let quickchartButtonEl =\n",
              "        document.querySelector('#df-4ef4833e-ec4c-4255-9c65-ad628e5f92cd button');\n",
              "      quickchartButtonEl.style.display =\n",
              "        google.colab.kernel.accessAllowed ? 'block' : 'none';\n",
              "    })();\n",
              "  </script>\n",
              "</div>\n",
              "\n",
              "    </div>\n",
              "  </div>\n"
            ],
            "application/vnd.google.colaboratory.intrinsic+json": {
              "type": "dataframe",
              "variable_name": "df",
              "summary": "{\n  \"name\": \"df\",\n  \"rows\": 573,\n  \"fields\": [\n    {\n      \"column\": \"Glucose\",\n      \"properties\": {\n        \"dtype\": \"number\",\n        \"std\": 31,\n        \"min\": 0,\n        \"max\": 198,\n        \"num_unique_values\": 127,\n        \"samples\": [\n          92,\n          157,\n          154\n        ],\n        \"semantic_type\": \"\",\n        \"description\": \"\"\n      }\n    },\n    {\n      \"column\": \"BloodPressure\",\n      \"properties\": {\n        \"dtype\": \"number\",\n        \"std\": 12.402764925400879,\n        \"min\": 0.0,\n        \"max\": 122.0,\n        \"num_unique_values\": 43,\n        \"samples\": [\n          95.0,\n          85.0,\n          86.0\n        ],\n        \"semantic_type\": \"\",\n        \"description\": \"\"\n      }\n    },\n    {\n      \"column\": \"BMI\",\n      \"properties\": {\n        \"dtype\": \"number\",\n        \"std\": 7.0280861661800484,\n        \"min\": 18.2,\n        \"max\": 67.1,\n        \"num_unique_values\": 231,\n        \"samples\": [\n          42.3,\n          29.3,\n          45.8\n        ],\n        \"semantic_type\": \"\",\n        \"description\": \"\"\n      }\n    },\n    {\n      \"column\": \"DiabetesPedigreeFunction\",\n      \"properties\": {\n        \"dtype\": \"number\",\n        \"std\": 0.3395934355654554,\n        \"min\": 0.078,\n        \"max\": 2.42,\n        \"num_unique_values\": 422,\n        \"samples\": [\n          0.18,\n          1.138,\n          0.605\n        ],\n        \"semantic_type\": \"\",\n        \"description\": \"\"\n      }\n    },\n    {\n      \"column\": \"Age\",\n      \"properties\": {\n        \"dtype\": \"number\",\n        \"std\": 11,\n        \"min\": 21,\n        \"max\": 81,\n        \"num_unique_values\": 50,\n        \"samples\": [\n          41,\n          55,\n          42\n        ],\n        \"semantic_type\": \"\",\n        \"description\": \"\"\n      }\n    },\n    {\n      \"column\": \"Outcome\",\n      \"properties\": {\n        \"dtype\": \"number\",\n        \"std\": 0,\n        \"min\": 0,\n        \"max\": 1,\n        \"num_unique_values\": 2,\n        \"samples\": [\n          1,\n          0\n        ],\n        \"semantic_type\": \"\",\n        \"description\": \"\"\n      }\n    }\n  ]\n}"
            }
          },
          "metadata": {},
          "execution_count": 7
        }
      ]
    },
    {
      "cell_type": "code",
      "source": [
        "df.isnull().sum()"
      ],
      "metadata": {
        "colab": {
          "base_uri": "https://localhost:8080/"
        },
        "id": "ApJbXcuNTQvz",
        "outputId": "a64ada1d-1968-4913-a499-8f8b9a986258"
      },
      "execution_count": 8,
      "outputs": [
        {
          "output_type": "execute_result",
          "data": {
            "text/plain": [
              "Glucose                      0\n",
              "BloodPressure               12\n",
              "BMI                          3\n",
              "DiabetesPedigreeFunction     0\n",
              "Age                          0\n",
              "Outcome                      0\n",
              "dtype: int64"
            ]
          },
          "metadata": {},
          "execution_count": 8
        }
      ]
    },
    {
      "cell_type": "code",
      "source": [
        "df.describe()"
      ],
      "metadata": {
        "colab": {
          "base_uri": "https://localhost:8080/",
          "height": 300
        },
        "id": "9vpp4zSHTcXz",
        "outputId": "d80eaf79-9cc6-44e3-f358-efafc9fa6943"
      },
      "execution_count": 9,
      "outputs": [
        {
          "output_type": "execute_result",
          "data": {
            "text/plain": [
              "          Glucose  BloodPressure         BMI  DiabetesPedigreeFunction  \\\n",
              "count  573.000000     561.000000  570.000000                573.000000   \n",
              "mean   120.753927      72.073084   32.414912                  0.484497   \n",
              "std     31.772693      12.402765    7.028086                  0.339593   \n",
              "min      0.000000       0.000000   18.200000                  0.078000   \n",
              "25%     99.000000      64.000000   27.400000                  0.251000   \n",
              "50%    117.000000      72.000000   32.000000                  0.389000   \n",
              "75%    140.000000      80.000000   36.600000                  0.652000   \n",
              "max    198.000000     122.000000   67.100000                  2.420000   \n",
              "\n",
              "              Age     Outcome  \n",
              "count  573.000000  573.000000  \n",
              "mean    33.371728    0.345550  \n",
              "std     11.919296    0.475963  \n",
              "min     21.000000    0.000000  \n",
              "25%     24.000000    0.000000  \n",
              "50%     29.000000    0.000000  \n",
              "75%     40.000000    1.000000  \n",
              "max     81.000000    1.000000  "
            ],
            "text/html": [
              "\n",
              "  <div id=\"df-59446a22-f4a8-4e06-96fb-336042350060\" class=\"colab-df-container\">\n",
              "    <div>\n",
              "<style scoped>\n",
              "    .dataframe tbody tr th:only-of-type {\n",
              "        vertical-align: middle;\n",
              "    }\n",
              "\n",
              "    .dataframe tbody tr th {\n",
              "        vertical-align: top;\n",
              "    }\n",
              "\n",
              "    .dataframe thead th {\n",
              "        text-align: right;\n",
              "    }\n",
              "</style>\n",
              "<table border=\"1\" class=\"dataframe\">\n",
              "  <thead>\n",
              "    <tr style=\"text-align: right;\">\n",
              "      <th></th>\n",
              "      <th>Glucose</th>\n",
              "      <th>BloodPressure</th>\n",
              "      <th>BMI</th>\n",
              "      <th>DiabetesPedigreeFunction</th>\n",
              "      <th>Age</th>\n",
              "      <th>Outcome</th>\n",
              "    </tr>\n",
              "  </thead>\n",
              "  <tbody>\n",
              "    <tr>\n",
              "      <th>count</th>\n",
              "      <td>573.000000</td>\n",
              "      <td>561.000000</td>\n",
              "      <td>570.000000</td>\n",
              "      <td>573.000000</td>\n",
              "      <td>573.000000</td>\n",
              "      <td>573.000000</td>\n",
              "    </tr>\n",
              "    <tr>\n",
              "      <th>mean</th>\n",
              "      <td>120.753927</td>\n",
              "      <td>72.073084</td>\n",
              "      <td>32.414912</td>\n",
              "      <td>0.484497</td>\n",
              "      <td>33.371728</td>\n",
              "      <td>0.345550</td>\n",
              "    </tr>\n",
              "    <tr>\n",
              "      <th>std</th>\n",
              "      <td>31.772693</td>\n",
              "      <td>12.402765</td>\n",
              "      <td>7.028086</td>\n",
              "      <td>0.339593</td>\n",
              "      <td>11.919296</td>\n",
              "      <td>0.475963</td>\n",
              "    </tr>\n",
              "    <tr>\n",
              "      <th>min</th>\n",
              "      <td>0.000000</td>\n",
              "      <td>0.000000</td>\n",
              "      <td>18.200000</td>\n",
              "      <td>0.078000</td>\n",
              "      <td>21.000000</td>\n",
              "      <td>0.000000</td>\n",
              "    </tr>\n",
              "    <tr>\n",
              "      <th>25%</th>\n",
              "      <td>99.000000</td>\n",
              "      <td>64.000000</td>\n",
              "      <td>27.400000</td>\n",
              "      <td>0.251000</td>\n",
              "      <td>24.000000</td>\n",
              "      <td>0.000000</td>\n",
              "    </tr>\n",
              "    <tr>\n",
              "      <th>50%</th>\n",
              "      <td>117.000000</td>\n",
              "      <td>72.000000</td>\n",
              "      <td>32.000000</td>\n",
              "      <td>0.389000</td>\n",
              "      <td>29.000000</td>\n",
              "      <td>0.000000</td>\n",
              "    </tr>\n",
              "    <tr>\n",
              "      <th>75%</th>\n",
              "      <td>140.000000</td>\n",
              "      <td>80.000000</td>\n",
              "      <td>36.600000</td>\n",
              "      <td>0.652000</td>\n",
              "      <td>40.000000</td>\n",
              "      <td>1.000000</td>\n",
              "    </tr>\n",
              "    <tr>\n",
              "      <th>max</th>\n",
              "      <td>198.000000</td>\n",
              "      <td>122.000000</td>\n",
              "      <td>67.100000</td>\n",
              "      <td>2.420000</td>\n",
              "      <td>81.000000</td>\n",
              "      <td>1.000000</td>\n",
              "    </tr>\n",
              "  </tbody>\n",
              "</table>\n",
              "</div>\n",
              "    <div class=\"colab-df-buttons\">\n",
              "\n",
              "  <div class=\"colab-df-container\">\n",
              "    <button class=\"colab-df-convert\" onclick=\"convertToInteractive('df-59446a22-f4a8-4e06-96fb-336042350060')\"\n",
              "            title=\"Convert this dataframe to an interactive table.\"\n",
              "            style=\"display:none;\">\n",
              "\n",
              "  <svg xmlns=\"http://www.w3.org/2000/svg\" height=\"24px\" viewBox=\"0 -960 960 960\">\n",
              "    <path d=\"M120-120v-720h720v720H120Zm60-500h600v-160H180v160Zm220 220h160v-160H400v160Zm0 220h160v-160H400v160ZM180-400h160v-160H180v160Zm440 0h160v-160H620v160ZM180-180h160v-160H180v160Zm440 0h160v-160H620v160Z\"/>\n",
              "  </svg>\n",
              "    </button>\n",
              "\n",
              "  <style>\n",
              "    .colab-df-container {\n",
              "      display:flex;\n",
              "      gap: 12px;\n",
              "    }\n",
              "\n",
              "    .colab-df-convert {\n",
              "      background-color: #E8F0FE;\n",
              "      border: none;\n",
              "      border-radius: 50%;\n",
              "      cursor: pointer;\n",
              "      display: none;\n",
              "      fill: #1967D2;\n",
              "      height: 32px;\n",
              "      padding: 0 0 0 0;\n",
              "      width: 32px;\n",
              "    }\n",
              "\n",
              "    .colab-df-convert:hover {\n",
              "      background-color: #E2EBFA;\n",
              "      box-shadow: 0px 1px 2px rgba(60, 64, 67, 0.3), 0px 1px 3px 1px rgba(60, 64, 67, 0.15);\n",
              "      fill: #174EA6;\n",
              "    }\n",
              "\n",
              "    .colab-df-buttons div {\n",
              "      margin-bottom: 4px;\n",
              "    }\n",
              "\n",
              "    [theme=dark] .colab-df-convert {\n",
              "      background-color: #3B4455;\n",
              "      fill: #D2E3FC;\n",
              "    }\n",
              "\n",
              "    [theme=dark] .colab-df-convert:hover {\n",
              "      background-color: #434B5C;\n",
              "      box-shadow: 0px 1px 3px 1px rgba(0, 0, 0, 0.15);\n",
              "      filter: drop-shadow(0px 1px 2px rgba(0, 0, 0, 0.3));\n",
              "      fill: #FFFFFF;\n",
              "    }\n",
              "  </style>\n",
              "\n",
              "    <script>\n",
              "      const buttonEl =\n",
              "        document.querySelector('#df-59446a22-f4a8-4e06-96fb-336042350060 button.colab-df-convert');\n",
              "      buttonEl.style.display =\n",
              "        google.colab.kernel.accessAllowed ? 'block' : 'none';\n",
              "\n",
              "      async function convertToInteractive(key) {\n",
              "        const element = document.querySelector('#df-59446a22-f4a8-4e06-96fb-336042350060');\n",
              "        const dataTable =\n",
              "          await google.colab.kernel.invokeFunction('convertToInteractive',\n",
              "                                                    [key], {});\n",
              "        if (!dataTable) return;\n",
              "\n",
              "        const docLinkHtml = 'Like what you see? Visit the ' +\n",
              "          '<a target=\"_blank\" href=https://colab.research.google.com/notebooks/data_table.ipynb>data table notebook</a>'\n",
              "          + ' to learn more about interactive tables.';\n",
              "        element.innerHTML = '';\n",
              "        dataTable['output_type'] = 'display_data';\n",
              "        await google.colab.output.renderOutput(dataTable, element);\n",
              "        const docLink = document.createElement('div');\n",
              "        docLink.innerHTML = docLinkHtml;\n",
              "        element.appendChild(docLink);\n",
              "      }\n",
              "    </script>\n",
              "  </div>\n",
              "\n",
              "\n",
              "<div id=\"df-839f5bd7-3b0b-4cac-a05d-3af31db38c68\">\n",
              "  <button class=\"colab-df-quickchart\" onclick=\"quickchart('df-839f5bd7-3b0b-4cac-a05d-3af31db38c68')\"\n",
              "            title=\"Suggest charts\"\n",
              "            style=\"display:none;\">\n",
              "\n",
              "<svg xmlns=\"http://www.w3.org/2000/svg\" height=\"24px\"viewBox=\"0 0 24 24\"\n",
              "     width=\"24px\">\n",
              "    <g>\n",
              "        <path d=\"M19 3H5c-1.1 0-2 .9-2 2v14c0 1.1.9 2 2 2h14c1.1 0 2-.9 2-2V5c0-1.1-.9-2-2-2zM9 17H7v-7h2v7zm4 0h-2V7h2v10zm4 0h-2v-4h2v4z\"/>\n",
              "    </g>\n",
              "</svg>\n",
              "  </button>\n",
              "\n",
              "<style>\n",
              "  .colab-df-quickchart {\n",
              "      --bg-color: #E8F0FE;\n",
              "      --fill-color: #1967D2;\n",
              "      --hover-bg-color: #E2EBFA;\n",
              "      --hover-fill-color: #174EA6;\n",
              "      --disabled-fill-color: #AAA;\n",
              "      --disabled-bg-color: #DDD;\n",
              "  }\n",
              "\n",
              "  [theme=dark] .colab-df-quickchart {\n",
              "      --bg-color: #3B4455;\n",
              "      --fill-color: #D2E3FC;\n",
              "      --hover-bg-color: #434B5C;\n",
              "      --hover-fill-color: #FFFFFF;\n",
              "      --disabled-bg-color: #3B4455;\n",
              "      --disabled-fill-color: #666;\n",
              "  }\n",
              "\n",
              "  .colab-df-quickchart {\n",
              "    background-color: var(--bg-color);\n",
              "    border: none;\n",
              "    border-radius: 50%;\n",
              "    cursor: pointer;\n",
              "    display: none;\n",
              "    fill: var(--fill-color);\n",
              "    height: 32px;\n",
              "    padding: 0;\n",
              "    width: 32px;\n",
              "  }\n",
              "\n",
              "  .colab-df-quickchart:hover {\n",
              "    background-color: var(--hover-bg-color);\n",
              "    box-shadow: 0 1px 2px rgba(60, 64, 67, 0.3), 0 1px 3px 1px rgba(60, 64, 67, 0.15);\n",
              "    fill: var(--button-hover-fill-color);\n",
              "  }\n",
              "\n",
              "  .colab-df-quickchart-complete:disabled,\n",
              "  .colab-df-quickchart-complete:disabled:hover {\n",
              "    background-color: var(--disabled-bg-color);\n",
              "    fill: var(--disabled-fill-color);\n",
              "    box-shadow: none;\n",
              "  }\n",
              "\n",
              "  .colab-df-spinner {\n",
              "    border: 2px solid var(--fill-color);\n",
              "    border-color: transparent;\n",
              "    border-bottom-color: var(--fill-color);\n",
              "    animation:\n",
              "      spin 1s steps(1) infinite;\n",
              "  }\n",
              "\n",
              "  @keyframes spin {\n",
              "    0% {\n",
              "      border-color: transparent;\n",
              "      border-bottom-color: var(--fill-color);\n",
              "      border-left-color: var(--fill-color);\n",
              "    }\n",
              "    20% {\n",
              "      border-color: transparent;\n",
              "      border-left-color: var(--fill-color);\n",
              "      border-top-color: var(--fill-color);\n",
              "    }\n",
              "    30% {\n",
              "      border-color: transparent;\n",
              "      border-left-color: var(--fill-color);\n",
              "      border-top-color: var(--fill-color);\n",
              "      border-right-color: var(--fill-color);\n",
              "    }\n",
              "    40% {\n",
              "      border-color: transparent;\n",
              "      border-right-color: var(--fill-color);\n",
              "      border-top-color: var(--fill-color);\n",
              "    }\n",
              "    60% {\n",
              "      border-color: transparent;\n",
              "      border-right-color: var(--fill-color);\n",
              "    }\n",
              "    80% {\n",
              "      border-color: transparent;\n",
              "      border-right-color: var(--fill-color);\n",
              "      border-bottom-color: var(--fill-color);\n",
              "    }\n",
              "    90% {\n",
              "      border-color: transparent;\n",
              "      border-bottom-color: var(--fill-color);\n",
              "    }\n",
              "  }\n",
              "</style>\n",
              "\n",
              "  <script>\n",
              "    async function quickchart(key) {\n",
              "      const quickchartButtonEl =\n",
              "        document.querySelector('#' + key + ' button');\n",
              "      quickchartButtonEl.disabled = true;  // To prevent multiple clicks.\n",
              "      quickchartButtonEl.classList.add('colab-df-spinner');\n",
              "      try {\n",
              "        const charts = await google.colab.kernel.invokeFunction(\n",
              "            'suggestCharts', [key], {});\n",
              "      } catch (error) {\n",
              "        console.error('Error during call to suggestCharts:', error);\n",
              "      }\n",
              "      quickchartButtonEl.classList.remove('colab-df-spinner');\n",
              "      quickchartButtonEl.classList.add('colab-df-quickchart-complete');\n",
              "    }\n",
              "    (() => {\n",
              "      let quickchartButtonEl =\n",
              "        document.querySelector('#df-839f5bd7-3b0b-4cac-a05d-3af31db38c68 button');\n",
              "      quickchartButtonEl.style.display =\n",
              "        google.colab.kernel.accessAllowed ? 'block' : 'none';\n",
              "    })();\n",
              "  </script>\n",
              "</div>\n",
              "\n",
              "    </div>\n",
              "  </div>\n"
            ],
            "application/vnd.google.colaboratory.intrinsic+json": {
              "type": "dataframe",
              "summary": "{\n  \"name\": \"df\",\n  \"rows\": 8,\n  \"fields\": [\n    {\n      \"column\": \"Glucose\",\n      \"properties\": {\n        \"dtype\": \"number\",\n        \"std\": 177.91067923090515,\n        \"min\": 0.0,\n        \"max\": 573.0,\n        \"num_unique_values\": 8,\n        \"samples\": [\n          120.75392670157068,\n          117.0,\n          573.0\n        ],\n        \"semantic_type\": \"\",\n        \"description\": \"\"\n      }\n    },\n    {\n      \"column\": \"BloodPressure\",\n      \"properties\": {\n        \"dtype\": \"number\",\n        \"std\": 181.1590717180061,\n        \"min\": 0.0,\n        \"max\": 561.0,\n        \"num_unique_values\": 8,\n        \"samples\": [\n          72.07308377896614,\n          72.0,\n          561.0\n        ],\n        \"semantic_type\": \"\",\n        \"description\": \"\"\n      }\n    },\n    {\n      \"column\": \"BMI\",\n      \"properties\": {\n        \"dtype\": \"number\",\n        \"std\": 191.1576684064863,\n        \"min\": 7.0280861661800484,\n        \"max\": 570.0,\n        \"num_unique_values\": 8,\n        \"samples\": [\n          32.414912280701756,\n          32.0,\n          570.0\n        ],\n        \"semantic_type\": \"\",\n        \"description\": \"\"\n      }\n    },\n    {\n      \"column\": \"DiabetesPedigreeFunction\",\n      \"properties\": {\n        \"dtype\": \"number\",\n        \"std\": 202.35439111777237,\n        \"min\": 0.078,\n        \"max\": 573.0,\n        \"num_unique_values\": 8,\n        \"samples\": [\n          0.4844973821989529,\n          0.389,\n          573.0\n        ],\n        \"semantic_type\": \"\",\n        \"description\": \"\"\n      }\n    },\n    {\n      \"column\": \"Age\",\n      \"properties\": {\n        \"dtype\": \"number\",\n        \"std\": 191.5811859437477,\n        \"min\": 11.9192960724538,\n        \"max\": 573.0,\n        \"num_unique_values\": 8,\n        \"samples\": [\n          33.3717277486911,\n          29.0,\n          573.0\n        ],\n        \"semantic_type\": \"\",\n        \"description\": \"\"\n      }\n    },\n    {\n      \"column\": \"Outcome\",\n      \"properties\": {\n        \"dtype\": \"number\",\n        \"std\": 202.4440113690242,\n        \"min\": 0.0,\n        \"max\": 573.0,\n        \"num_unique_values\": 5,\n        \"samples\": [\n          0.34554973821989526,\n          1.0,\n          0.47596268260397756\n        ],\n        \"semantic_type\": \"\",\n        \"description\": \"\"\n      }\n    }\n  ]\n}"
            }
          },
          "metadata": {},
          "execution_count": 9
        }
      ]
    },
    {
      "cell_type": "markdown",
      "source": [
        "Updating NaN values"
      ],
      "metadata": {
        "id": "lKm9cDmkbmtl"
      }
    },
    {
      "cell_type": "code",
      "source": [
        "BloodPressuremean=df[\"BloodPressure\"].mean()"
      ],
      "metadata": {
        "id": "oIpPfiTATmHz"
      },
      "execution_count": 10,
      "outputs": []
    },
    {
      "cell_type": "code",
      "source": [
        "df=df.replace(np.nan,BloodPressuremean)\n",
        "# Can also replace by fillna method or simple Imputer method"
      ],
      "metadata": {
        "id": "ExOz3I-uT6J0"
      },
      "execution_count": 11,
      "outputs": []
    },
    {
      "cell_type": "code",
      "source": [
        "df[\"BloodPressure\"].isnull().sum()"
      ],
      "metadata": {
        "colab": {
          "base_uri": "https://localhost:8080/"
        },
        "id": "Ch_ZYyzsUCDT",
        "outputId": "054d5711-297f-4276-dd2e-ff47cf3b1cf1"
      },
      "execution_count": 12,
      "outputs": [
        {
          "output_type": "execute_result",
          "data": {
            "text/plain": [
              "0"
            ]
          },
          "metadata": {},
          "execution_count": 12
        }
      ]
    },
    {
      "cell_type": "code",
      "source": [
        "BMImean=df[\"BMI\"].mean()"
      ],
      "metadata": {
        "id": "fEjm1f5AUIik"
      },
      "execution_count": 13,
      "outputs": []
    },
    {
      "cell_type": "code",
      "source": [
        "df=df.replace(np.nan,BMImean)"
      ],
      "metadata": {
        "id": "agW9pXQ7UWP0"
      },
      "execution_count": 14,
      "outputs": []
    },
    {
      "cell_type": "code",
      "source": [
        "x=df.iloc[:,:-1].values #storing the attributes in variable x\n",
        "y=df.iloc[:,-1].values  #storing the output(last column values) in variable y"
      ],
      "metadata": {
        "id": "ptcgadHdUdGL"
      },
      "execution_count": 15,
      "outputs": []
    },
    {
      "cell_type": "markdown",
      "source": [
        "Splitting of Data set into train test split"
      ],
      "metadata": {
        "id": "u1kHXzbWbX7o"
      }
    },
    {
      "cell_type": "code",
      "source": [
        "x_train,x_test,y_train,y_test=train_test_split(x,y,test_size=0.3,random_state=42)  #test size = 30% and train size = 70%\n",
        "print(x_train)\n",
        "print(x_test)"
      ],
      "metadata": {
        "colab": {
          "base_uri": "https://localhost:8080/"
        },
        "id": "uVi42y8CUqMk",
        "outputId": "abc76743-796b-4f14-cd43-2a8f1c8ce467"
      },
      "execution_count": 16,
      "outputs": [
        {
          "output_type": "stream",
          "name": "stdout",
          "text": [
            "[[1.51e+02 9.00e+01 2.97e+01 2.94e-01 3.60e+01]\n",
            " [1.25e+02 6.00e+01 3.38e+01 8.80e-02 3.10e+01]\n",
            " [1.08e+02 7.00e+01 3.05e+01 9.55e-01 3.30e+01]\n",
            " ...\n",
            " [1.33e+02 8.80e+01 3.24e+01 2.62e-01 3.70e+01]\n",
            " [1.20e+02 7.40e+01 3.05e+01 2.85e-01 2.60e+01]\n",
            " [7.60e+01 6.20e+01 3.40e+01 3.91e-01 2.50e+01]]\n",
            "[[1.07000000e+02 7.60000000e+01 4.53000000e+01 6.86000000e-01\n",
            "  2.40000000e+01]\n",
            " [1.13000000e+02 4.40000000e+01 2.24000000e+01 1.40000000e-01\n",
            "  2.20000000e+01]\n",
            " [1.08000000e+02 5.20000000e+01 3.25000000e+01 3.18000000e-01\n",
            "  2.20000000e+01]\n",
            " [1.29000000e+02 6.40000000e+01 2.64000000e+01 2.19000000e-01\n",
            "  2.80000000e+01]\n",
            " [9.50000000e+01 5.40000000e+01 2.61000000e+01 7.48000000e-01\n",
            "  2.20000000e+01]\n",
            " [9.50000000e+01 6.00000000e+01 2.39000000e+01 2.60000000e-01\n",
            "  2.20000000e+01]\n",
            " [1.48000000e+02 6.00000000e+01 3.09000000e+01 1.50000000e-01\n",
            "  2.90000000e+01]\n",
            " [1.38000000e+02 7.60000000e+01 3.32000000e+01 4.20000000e-01\n",
            "  3.50000000e+01]\n",
            " [8.10000000e+01 7.80000000e+01 4.67000000e+01 2.61000000e-01\n",
            "  4.20000000e+01]\n",
            " [1.24000000e+02 7.00000000e+01 2.74000000e+01 2.54000000e-01\n",
            "  3.60000000e+01]\n",
            " [1.32000000e+02 8.60000000e+01 2.80000000e+01 4.19000000e-01\n",
            "  6.30000000e+01]\n",
            " [7.80000000e+01 8.80000000e+01 3.69000000e+01 4.34000000e-01\n",
            "  2.10000000e+01]\n",
            " [9.70000000e+01 7.00000000e+01 3.81000000e+01 2.18000000e-01\n",
            "  3.00000000e+01]\n",
            " [1.46000000e+02 7.00000000e+01 2.80000000e+01 3.37000000e-01\n",
            "  2.90000000e+01]\n",
            " [1.14000000e+02 8.80000000e+01 2.78000000e+01 2.47000000e-01\n",
            "  6.60000000e+01]\n",
            " [1.42000000e+02 8.20000000e+01 2.47000000e+01 7.61000000e-01\n",
            "  2.10000000e+01]\n",
            " [1.06000000e+02 6.00000000e+01 2.65000000e+01 2.96000000e-01\n",
            "  2.90000000e+01]\n",
            " [8.50000000e+01 7.80000000e+01 3.12000000e+01 3.82000000e-01\n",
            "  4.20000000e+01]\n",
            " [8.90000000e+01 7.60000000e+01 3.12000000e+01 1.92000000e-01\n",
            "  2.30000000e+01]\n",
            " [1.28000000e+02 7.80000000e+01 4.33000000e+01 1.22400000e+00\n",
            "  3.10000000e+01]\n",
            " [1.37000000e+02 1.08000000e+02 4.88000000e+01 2.27000000e-01\n",
            "  3.70000000e+01]\n",
            " [8.40000000e+01 8.20000000e+01 3.82000000e+01 2.33000000e-01\n",
            "  2.30000000e+01]\n",
            " [8.60000000e+01 6.60000000e+01 4.13000000e+01 9.17000000e-01\n",
            "  2.90000000e+01]\n",
            " [1.52000000e+02 9.00000000e+01 2.68000000e+01 7.31000000e-01\n",
            "  4.30000000e+01]\n",
            " [9.30000000e+01 1.00000000e+02 4.34000000e+01 1.02100000e+00\n",
            "  3.50000000e+01]\n",
            " [1.00000000e+02 6.80000000e+01 3.85000000e+01 3.24000000e-01\n",
            "  2.60000000e+01]\n",
            " [1.11000000e+02 5.60000000e+01 3.01000000e+01 5.57000000e-01\n",
            "  3.00000000e+01]\n",
            " [1.51000000e+02 9.00000000e+01 4.21000000e+01 3.71000000e-01\n",
            "  2.10000000e+01]\n",
            " [1.06000000e+02 5.20000000e+01 3.12000000e+01 3.80000000e-01\n",
            "  4.20000000e+01]\n",
            " [1.01000000e+02 6.50000000e+01 2.46000000e+01 2.37000000e-01\n",
            "  2.20000000e+01]\n",
            " [1.03000000e+02 6.80000000e+01 4.62000000e+01 1.26000000e-01\n",
            "  4.20000000e+01]\n",
            " [1.01000000e+02 6.20000000e+01 2.19000000e+01 3.36000000e-01\n",
            "  2.50000000e+01]\n",
            " [1.00000000e+02 7.20000000e+01 2.53000000e+01 6.58000000e-01\n",
            "  2.80000000e+01]\n",
            " [1.10000000e+02 7.60000000e+01 2.78000000e+01 2.37000000e-01\n",
            "  5.80000000e+01]\n",
            " [1.22000000e+02 6.80000000e+01 3.12000000e+01 2.58000000e-01\n",
            "  4.10000000e+01]\n",
            " [1.14000000e+02 6.60000000e+01 3.28000000e+01 2.58000000e-01\n",
            "  4.20000000e+01]\n",
            " [1.07000000e+02 7.40000000e+01 2.96000000e+01 2.54000000e-01\n",
            "  3.10000000e+01]\n",
            " [9.90000000e+01 7.00000000e+01 2.04000000e+01 2.35000000e-01\n",
            "  2.70000000e+01]\n",
            " [1.39000000e+02 8.00000000e+01 2.71000000e+01 1.44100000e+00\n",
            "  5.70000000e+01]\n",
            " [1.51000000e+02 6.00000000e+01 2.61000000e+01 1.79000000e-01\n",
            "  2.20000000e+01]\n",
            " [1.46000000e+02 9.20000000e+01 3.12000000e+01 5.39000000e-01\n",
            "  6.10000000e+01]\n",
            " [1.22000000e+02 5.20000000e+01 3.62000000e+01 8.16000000e-01\n",
            "  2.80000000e+01]\n",
            " [9.00000000e+01 6.20000000e+01 2.51000000e+01 1.26800000e+00\n",
            "  2.50000000e+01]\n",
            " [1.96000000e+02 7.60000000e+01 3.75000000e+01 6.05000000e-01\n",
            "  5.70000000e+01]\n",
            " [7.50000000e+01 6.40000000e+01 2.97000000e+01 3.70000000e-01\n",
            "  3.30000000e+01]\n",
            " [1.62000000e+02 7.60000000e+01 5.32000000e+01 7.59000000e-01\n",
            "  2.50000000e+01]\n",
            " [9.20000000e+01 8.00000000e+01 4.22000000e+01 2.37000000e-01\n",
            "  2.90000000e+01]\n",
            " [1.21000000e+02 7.80000000e+01 2.65000000e+01 2.59000000e-01\n",
            "  6.20000000e+01]\n",
            " [1.43000000e+02 7.80000000e+01 4.50000000e+01 1.90000000e-01\n",
            "  4.70000000e+01]\n",
            " [1.44000000e+02 5.80000000e+01 3.16000000e+01 4.22000000e-01\n",
            "  2.50000000e+01]\n",
            " [1.39000000e+02 4.60000000e+01 2.87000000e+01 6.54000000e-01\n",
            "  2.20000000e+01]\n",
            " [1.02000000e+02 7.60000000e+01 3.29000000e+01 6.65000000e-01\n",
            "  4.60000000e+01]\n",
            " [1.48000000e+02 6.60000000e+01 3.25000000e+01 2.56000000e-01\n",
            "  2.20000000e+01]\n",
            " [1.63000000e+02 7.20000000e+01 4.09000000e+01 8.17000000e-01\n",
            "  4.70000000e+01]\n",
            " [1.23000000e+02 8.80000000e+01 3.52000000e+01 1.97000000e-01\n",
            "  2.90000000e+01]\n",
            " [1.43000000e+02 7.40000000e+01 2.62000000e+01 2.56000000e-01\n",
            "  2.10000000e+01]\n",
            " [1.65000000e+02 9.00000000e+01 5.23000000e+01 4.27000000e-01\n",
            "  2.30000000e+01]\n",
            " [1.34000000e+02 7.20000000e+01 2.38000000e+01 2.77000000e-01\n",
            "  6.00000000e+01]\n",
            " [1.46000000e+02 5.60000000e+01 2.97000000e+01 5.64000000e-01\n",
            "  2.90000000e+01]\n",
            " [1.11000000e+02 5.80000000e+01 2.95000000e+01 4.30000000e-01\n",
            "  2.20000000e+01]\n",
            " [8.00000000e+01 5.50000000e+01 1.91000000e+01 2.58000000e-01\n",
            "  2.10000000e+01]\n",
            " [7.80000000e+01 5.00000000e+01 3.10000000e+01 2.48000000e-01\n",
            "  2.60000000e+01]\n",
            " [1.11000000e+02 8.40000000e+01 4.68000000e+01 9.25000000e-01\n",
            "  4.50000000e+01]\n",
            " [1.98000000e+02 6.60000000e+01 4.13000000e+01 5.02000000e-01\n",
            "  2.80000000e+01]\n",
            " [1.12000000e+02 8.20000000e+01 3.42000000e+01 2.60000000e-01\n",
            "  3.60000000e+01]\n",
            " [9.00000000e+01 8.50000000e+01 3.49000000e+01 8.25000000e-01\n",
            "  5.60000000e+01]\n",
            " [1.05000000e+02 8.40000000e+01 2.79000000e+01 7.41000000e-01\n",
            "  6.20000000e+01]\n",
            " [1.07000000e+02 6.80000000e+01 2.65000000e+01 1.65000000e-01\n",
            "  2.40000000e+01]\n",
            " [1.42000000e+02 8.60000000e+01 4.40000000e+01 6.45000000e-01\n",
            "  2.20000000e+01]\n",
            " [9.40000000e+01 7.20730838e+01 7.20730838e+01 2.56000000e-01\n",
            "  2.50000000e+01]\n",
            " [1.16000000e+02 7.20730838e+01 2.35000000e+01 1.87000000e-01\n",
            "  2.30000000e+01]\n",
            " [1.03000000e+02 3.00000000e+01 4.33000000e+01 1.83000000e-01\n",
            "  3.30000000e+01]\n",
            " [1.44000000e+02 8.20000000e+01 3.85000000e+01 5.54000000e-01\n",
            "  3.70000000e+01]\n",
            " [1.11000000e+02 6.50000000e+01 2.46000000e+01 6.60000000e-01\n",
            "  3.10000000e+01]\n",
            " [1.66000000e+02 7.60000000e+01 4.57000000e+01 3.40000000e-01\n",
            "  2.70000000e+01]\n",
            " [1.89000000e+02 6.40000000e+01 3.12000000e+01 5.83000000e-01\n",
            "  2.90000000e+01]\n",
            " [1.16000000e+02 7.40000000e+01 2.63000000e+01 1.07000000e-01\n",
            "  2.40000000e+01]\n",
            " [1.08000000e+02 6.20000000e+01 2.52000000e+01 1.28000000e-01\n",
            "  2.10000000e+01]\n",
            " [9.90000000e+01 5.20000000e+01 2.46000000e+01 6.37000000e-01\n",
            "  2.10000000e+01]\n",
            " [1.47000000e+02 7.50000000e+01 2.99000000e+01 4.34000000e-01\n",
            "  2.80000000e+01]\n",
            " [1.08000000e+02 6.60000000e+01 3.24000000e+01 2.72000000e-01\n",
            "  4.20000000e+01]\n",
            " [1.58000000e+02 8.40000000e+01 3.94000000e+01 3.95000000e-01\n",
            "  2.90000000e+01]\n",
            " [7.10000000e+01 4.80000000e+01 2.04000000e+01 3.23000000e-01\n",
            "  2.20000000e+01]\n",
            " [1.19000000e+02 5.00000000e+01 2.71000000e+01 1.31800000e+00\n",
            "  3.30000000e+01]\n",
            " [1.12000000e+02 6.60000000e+01 3.78000000e+01 2.61000000e-01\n",
            "  4.10000000e+01]\n",
            " [7.10000000e+01 7.80000000e+01 3.32000000e+01 4.22000000e-01\n",
            "  2.10000000e+01]\n",
            " [1.18000000e+02 8.40000000e+01 4.58000000e+01 5.51000000e-01\n",
            "  3.10000000e+01]\n",
            " [9.90000000e+01 6.80000000e+01 3.28000000e+01 1.45000000e-01\n",
            "  3.30000000e+01]\n",
            " [1.08000000e+02 8.00000000e+01 2.70000000e+01 2.59000000e-01\n",
            "  5.20000000e+01]\n",
            " [1.22000000e+02 6.00000000e+01 2.98000000e+01 7.17000000e-01\n",
            "  2.20000000e+01]\n",
            " [1.44000000e+02 7.20000000e+01 3.39000000e+01 2.55000000e-01\n",
            "  4.00000000e+01]\n",
            " [1.19000000e+02 0.00000000e+00 1.96000000e+01 8.32000000e-01\n",
            "  7.20000000e+01]\n",
            " [1.65000000e+02 8.80000000e+01 3.04000000e+01 3.02000000e-01\n",
            "  4.90000000e+01]\n",
            " [9.90000000e+01 7.20000000e+01 3.86000000e+01 4.12000000e-01\n",
            "  2.10000000e+01]\n",
            " [1.43000000e+02 8.40000000e+01 4.24000000e+01 1.07600000e+00\n",
            "  2.20000000e+01]\n",
            " [1.11000000e+02 6.40000000e+01 3.42000000e+01 2.60000000e-01\n",
            "  2.40000000e+01]\n",
            " [1.12000000e+02 7.80000000e+01 3.94000000e+01 1.75000000e-01\n",
            "  2.40000000e+01]\n",
            " [1.51000000e+02 7.00000000e+01 4.18000000e+01 7.42000000e-01\n",
            "  3.80000000e+01]\n",
            " [1.77000000e+02 6.00000000e+01 3.46000000e+01 1.07200000e+00\n",
            "  2.10000000e+01]\n",
            " [1.31000000e+02 8.80000000e+01 3.16000000e+01 7.43000000e-01\n",
            "  3.20000000e+01]\n",
            " [9.00000000e+01 7.80000000e+01 4.27000000e+01 5.59000000e-01\n",
            "  2.10000000e+01]\n",
            " [1.14000000e+02 6.50000000e+01 2.19000000e+01 4.32000000e-01\n",
            "  3.70000000e+01]\n",
            " [1.36000000e+02 7.00000000e+01 3.71000000e+01 1.53000000e-01\n",
            "  4.30000000e+01]\n",
            " [9.90000000e+01 7.20730838e+01 2.22000000e+01 1.08000000e-01\n",
            "  2.30000000e+01]\n",
            " [1.46000000e+02 7.20730838e+01 2.75000000e+01 2.40000000e-01\n",
            "  2.80000000e+01]\n",
            " [1.22000000e+02 8.60000000e+01 3.47000000e+01 2.90000000e-01\n",
            "  3.30000000e+01]\n",
            " [1.80000000e+02 7.80000000e+01 5.94000000e+01 2.42000000e+00\n",
            "  2.50000000e+01]\n",
            " [1.28000000e+02 9.80000000e+01 3.20000000e+01 1.32100000e+00\n",
            "  3.30000000e+01]\n",
            " [8.20000000e+01 6.40000000e+01 2.12000000e+01 4.15000000e-01\n",
            "  2.30000000e+01]\n",
            " [8.10000000e+01 6.00000000e+01 2.77000000e+01 2.90000000e-01\n",
            "  2.50000000e+01]\n",
            " [1.06000000e+02 7.20000000e+01 3.66000000e+01 1.78000000e-01\n",
            "  4.50000000e+01]\n",
            " [9.50000000e+01 7.00000000e+01 3.21000000e+01 6.12000000e-01\n",
            "  2.40000000e+01]\n",
            " [8.40000000e+01 6.80000000e+01 3.19000000e+01 5.91000000e-01\n",
            "  2.50000000e+01]\n",
            " [1.25000000e+02 5.80000000e+01 3.16000000e+01 1.51000000e-01\n",
            "  2.40000000e+01]\n",
            " [1.31000000e+02 7.20730838e+01 4.32000000e+01 2.70000000e-01\n",
            "  2.60000000e+01]\n",
            " [1.35000000e+02 7.20730838e+01 5.23000000e+01 5.78000000e-01\n",
            "  4.00000000e+01]\n",
            " [1.26000000e+02 9.00000000e+01 4.34000000e+01 5.83000000e-01\n",
            "  4.20000000e+01]\n",
            " [1.11000000e+02 9.00000000e+01 2.84000000e+01 4.95000000e-01\n",
            "  2.90000000e+01]\n",
            " [1.46000000e+02 8.50000000e+01 2.89000000e+01 1.89000000e-01\n",
            "  2.70000000e+01]\n",
            " [1.96000000e+02 9.00000000e+01 3.98000000e+01 4.51000000e-01\n",
            "  4.10000000e+01]\n",
            " [1.25000000e+02 8.60000000e+01 3.76000000e+01 3.04000000e-01\n",
            "  5.10000000e+01]\n",
            " [1.47000000e+02 7.80000000e+01 3.37000000e+01 2.18000000e-01\n",
            "  6.50000000e+01]\n",
            " [9.40000000e+01 6.40000000e+01 3.33000000e+01 7.38000000e-01\n",
            "  4.10000000e+01]\n",
            " [8.20000000e+01 5.20000000e+01 2.85000000e+01 1.69900000e+00\n",
            "  2.50000000e+01]\n",
            " [1.22000000e+02 9.00000000e+01 4.97000000e+01 3.25000000e-01\n",
            "  3.10000000e+01]\n",
            " [1.37000000e+02 7.00000000e+01 3.32000000e+01 1.70000000e-01\n",
            "  2.20000000e+01]\n",
            " [1.17000000e+02 8.80000000e+01 3.45000000e+01 4.03000000e-01\n",
            "  4.00000000e+01]\n",
            " [8.80000000e+01 7.80000000e+01 3.20000000e+01 3.65000000e-01\n",
            "  2.90000000e+01]\n",
            " [1.19000000e+02 5.40000000e+01 2.23000000e+01 2.05000000e-01\n",
            "  2.40000000e+01]\n",
            " [1.80000000e+02 6.40000000e+01 3.40000000e+01 2.71000000e-01\n",
            "  2.60000000e+01]\n",
            " [8.90000000e+01 6.60000000e+01 2.81000000e+01 1.67000000e-01\n",
            "  2.10000000e+01]\n",
            " [1.03000000e+02 6.60000000e+01 2.43000000e+01 2.49000000e-01\n",
            "  2.90000000e+01]\n",
            " [1.82000000e+02 7.40000000e+01 3.05000000e+01 3.45000000e-01\n",
            "  2.90000000e+01]\n",
            " [1.02000000e+02 8.60000000e+01 4.55000000e+01 1.27000000e-01\n",
            "  2.30000000e+01]\n",
            " [1.58000000e+02 9.00000000e+01 3.16000000e+01 8.05000000e-01\n",
            "  6.60000000e+01]\n",
            " [1.17000000e+02 9.20000000e+01 3.41000000e+01 3.37000000e-01\n",
            "  3.80000000e+01]\n",
            " [8.30000000e+01 6.80000000e+01 1.82000000e+01 6.24000000e-01\n",
            "  2.70000000e+01]\n",
            " [1.91000000e+02 6.80000000e+01 3.09000000e+01 2.99000000e-01\n",
            "  3.40000000e+01]\n",
            " [1.63000000e+02 7.20000000e+01 3.90000000e+01 1.22200000e+00\n",
            "  3.30000000e+01]\n",
            " [7.80000000e+01 7.00000000e+01 3.25000000e+01 2.70000000e-01\n",
            "  3.90000000e+01]\n",
            " [1.59000000e+02 6.60000000e+01 3.04000000e+01 3.83000000e-01\n",
            "  3.60000000e+01]\n",
            " [1.25000000e+02 7.00000000e+01 3.11000000e+01 2.05000000e-01\n",
            "  4.10000000e+01]\n",
            " [8.80000000e+01 6.20000000e+01 2.99000000e+01 4.22000000e-01\n",
            "  2.30000000e+01]\n",
            " [9.70000000e+01 6.40000000e+01 3.68000000e+01 6.00000000e-01\n",
            "  2.50000000e+01]\n",
            " [1.52000000e+02 8.80000000e+01 5.00000000e+01 3.37000000e-01\n",
            "  3.60000000e+01]\n",
            " [5.70000000e+01 6.00000000e+01 2.17000000e+01 7.35000000e-01\n",
            "  6.70000000e+01]\n",
            " [1.14000000e+02 6.80000000e+01 2.87000000e+01 9.20000000e-02\n",
            "  2.50000000e+01]\n",
            " [1.08000000e+02 4.40000000e+01 2.40000000e+01 8.13000000e-01\n",
            "  3.50000000e+01]\n",
            " [1.55000000e+02 8.40000000e+01 3.87000000e+01 6.19000000e-01\n",
            "  3.40000000e+01]\n",
            " [1.05000000e+02 5.80000000e+01 2.43000000e+01 1.87000000e-01\n",
            "  2.10000000e+01]\n",
            " [9.10000000e+01 6.80000000e+01 2.42000000e+01 2.00000000e-01\n",
            "  5.80000000e+01]\n",
            " [1.41000000e+02 5.80000000e+01 2.54000000e+01 6.99000000e-01\n",
            "  2.40000000e+01]\n",
            " [1.06000000e+02 8.00000000e+01 2.36000000e+01 1.37000000e-01\n",
            "  4.40000000e+01]\n",
            " [1.50000000e+02 6.60000000e+01 3.47000000e+01 7.18000000e-01\n",
            "  4.20000000e+01]\n",
            " [8.50000000e+01 6.50000000e+01 3.96000000e+01 9.30000000e-01\n",
            "  2.70000000e+01]\n",
            " [1.27000000e+02 8.00000000e+01 3.63000000e+01 8.04000000e-01\n",
            "  2.30000000e+01]\n",
            " [9.90000000e+01 7.60000000e+01 2.32000000e+01 2.23000000e-01\n",
            "  2.10000000e+01]\n",
            " [1.55000000e+02 7.60000000e+01 3.33000000e+01 1.35300000e+00\n",
            "  5.10000000e+01]\n",
            " [1.23000000e+02 7.20000000e+01 3.36000000e+01 7.33000000e-01\n",
            "  3.40000000e+01]\n",
            " [1.35000000e+02 5.40000000e+01 2.67000000e+01 6.87000000e-01\n",
            "  6.20000000e+01]\n",
            " [1.38000000e+02 6.00000000e+01 3.46000000e+01 5.34000000e-01\n",
            "  2.10000000e+01]\n",
            " [1.42000000e+02 6.00000000e+01 2.88000000e+01 6.87000000e-01\n",
            "  6.10000000e+01]\n",
            " [1.03000000e+02 1.08000000e+02 3.92000000e+01 3.05000000e-01\n",
            "  6.50000000e+01]\n",
            " [1.25000000e+02 7.60000000e+01 3.38000000e+01 1.21000000e-01\n",
            "  5.40000000e+01]\n",
            " [9.80000000e+01 8.20000000e+01 2.52000000e+01 2.99000000e-01\n",
            "  2.20000000e+01]\n",
            " [1.24000000e+02 7.20000000e+01 2.76000000e+01 3.68000000e-01\n",
            "  2.90000000e+01]\n",
            " [1.04000000e+02 6.40000000e+01 3.36000000e+01 5.10000000e-01\n",
            "  2.20000000e+01]\n",
            " [1.12000000e+02 6.60000000e+01 2.50000000e+01 3.07000000e-01\n",
            "  2.40000000e+01]\n",
            " [8.60000000e+01 6.80000000e+01 3.02000000e+01 3.64000000e-01\n",
            "  2.40000000e+01]\n",
            " [1.09000000e+02 7.60000000e+01 2.79000000e+01 6.40000000e-01\n",
            "  3.10000000e+01]\n",
            " [1.00000000e+02 7.80000000e+01 3.66000000e+01 4.12000000e-01\n",
            "  4.60000000e+01]\n",
            " [1.40000000e+02 8.50000000e+01 3.74000000e+01 2.44000000e-01\n",
            "  4.10000000e+01]]\n"
          ]
        }
      ]
    },
    {
      "cell_type": "markdown",
      "source": [
        "Standardisation\n"
      ],
      "metadata": {
        "id": "aqe5-o6WbSZe"
      }
    },
    {
      "cell_type": "code",
      "source": [
        "sc=StandardScaler()\n",
        "x_train=sc.fit_transform(x_train)\n",
        "x_test=sc.fit_transform(x_test)"
      ],
      "metadata": {
        "id": "W4lxuqMJV7TE"
      },
      "execution_count": 17,
      "outputs": []
    },
    {
      "cell_type": "markdown",
      "source": [
        "Linear Regression Model\n"
      ],
      "metadata": {
        "id": "mEioaTj_bM84"
      }
    },
    {
      "cell_type": "code",
      "source": [
        "regressor=LinearRegression()"
      ],
      "metadata": {
        "id": "ar_F_SYrWi47"
      },
      "execution_count": 18,
      "outputs": []
    },
    {
      "cell_type": "code",
      "source": [
        "regressor.fit(x_train,y_train)\n",
        "y_predict=regressor.predict(x_test)\n",
        "print(\"Actual Test Values\",y_test)\n",
        "print(\"Predicted Values\",y_predict)\n"
      ],
      "metadata": {
        "colab": {
          "base_uri": "https://localhost:8080/"
        },
        "id": "Km8J-LukXRBU",
        "outputId": "d7dfc7b6-6299-4ad6-f578-6c113936d3f4"
      },
      "execution_count": 19,
      "outputs": [
        {
          "output_type": "stream",
          "name": "stdout",
          "text": [
            "Actual Test Values [0 0 0 1 0 0 1 0 0 1 0 0 0 1 0 0 1 0 0 1 1 0 0 1 0 0 0 1 0 0 0 0 0 0 0 1 1\n",
            " 0 0 0 1 0 0 1 0 1 0 0 0 1 0 1 0 1 0 0 0 1 0 0 0 1 1 1 1 1 1 0 1 0 0 0 1 0\n",
            " 1 1 0 0 0 0 1 1 0 1 1 0 1 0 1 0 0 0 1 0 0 0 0 1 1 1 0 0 1 0 1 0 1 1 0 0 0\n",
            " 0 0 0 1 1 1 0 0 1 0 0 0 0 1 0 1 0 0 0 0 0 1 1 1 0 0 0 1 0 1 1 0 0 1 0 0 0\n",
            " 0 0 0 0 0 0 0 0 0 1 0 0 1 0 0 1 0 1 1 0 0 1 1 0]\n",
            "Predicted Values [ 3.98170485e-01  9.05067436e-02  2.02894995e-01  2.62211564e-01\n",
            "  9.95378855e-02  1.48110014e-03  4.35118268e-01  4.48531264e-01\n",
            "  2.51425258e-01  2.71622155e-01  4.37080672e-01  5.74963737e-02\n",
            "  2.05032682e-01  4.06884683e-01  3.05020814e-01  3.65021471e-01\n",
            "  1.32889617e-01  1.03091272e-01  3.78751692e-02  6.05275818e-01\n",
            "  5.96001819e-01  9.42970760e-02  2.69745702e-01  5.21987192e-01\n",
            "  3.56084672e-01  2.31127357e-01  2.50986871e-01  5.77975985e-01\n",
            "  2.51760830e-01  4.23957833e-02  3.72817362e-01  3.49599100e-02\n",
            "  1.19657928e-01  2.57284333e-01  3.24536510e-01  2.97695146e-01\n",
            "  1.70536347e-01 -7.89907224e-03  5.94972567e-01  3.75095667e-01\n",
            "  5.72187110e-01  4.27532551e-01  1.33120719e-01  9.73544106e-01\n",
            " -4.02004314e-03  8.60285928e-01  2.17011778e-01  3.27290588e-01\n",
            "  6.34049935e-01  4.43171579e-01  4.04154453e-01  2.86751371e-01\n",
            "  4.41901149e-01  8.01644910e-01  3.18877987e-01  3.24467733e-01\n",
            "  8.07537862e-01  3.76134975e-01  4.67192301e-01  1.97262356e-01\n",
            " -1.54276825e-01 -1.96729323e-03  5.43226572e-01  9.24363820e-01\n",
            "  2.72603953e-01  2.86251212e-01  3.05633357e-01  9.93256429e-02\n",
            "  5.87520707e-01  5.90551740e-01  1.17204377e-01  3.35575156e-01\n",
            "  5.74105114e-01  1.95938549e-01  7.42467329e-01  7.58443921e-01\n",
            "  1.42921022e-01  7.76545053e-02  8.89550499e-02  4.43782315e-01\n",
            "  2.56381326e-01  6.23841743e-01 -1.79352082e-01  3.84361406e-01\n",
            "  3.43379803e-01 -2.87113171e-02  4.75518375e-01  1.54005055e-01\n",
            "  2.14725741e-01  3.09840465e-01  4.92157851e-01  3.87870508e-01\n",
            "  6.11757239e-01  2.18620467e-01  6.35058612e-01  2.35020701e-01\n",
            "  2.85637081e-01  6.95728018e-01  7.65977682e-01  4.11684852e-01\n",
            "  2.28498243e-01  1.71032307e-01  4.77774257e-01 -1.83362740e-02\n",
            "  3.82669742e-01  3.34165737e-01  1.28044809e+00  4.75256119e-01\n",
            " -9.21377906e-02 -2.67110160e-02  2.89190165e-01  1.52309620e-01\n",
            "  8.12537459e-02  2.80799533e-01  4.77195072e-01  7.05667950e-01\n",
            "  5.36105535e-01  1.98708286e-01  3.82024612e-01  9.17308807e-01\n",
            "  4.53082395e-01  5.86636888e-01  2.40231729e-01  1.89206667e-01\n",
            "  5.14331666e-01  3.66049408e-01  3.38441002e-01  8.48629144e-02\n",
            "  1.37831242e-01  6.81816452e-01 -4.93608110e-03  7.67431387e-02\n",
            "  6.66465123e-01  2.82129606e-01  7.09011303e-01  3.15201597e-01\n",
            " -8.21675917e-02  7.43186250e-01  7.86033596e-01  5.30390706e-02\n",
            "  5.52269904e-01  3.33995611e-01  5.53100061e-02  2.28097905e-01\n",
            "  7.29746407e-01 -4.72130039e-02  1.64449008e-01  2.16330419e-01\n",
            "  6.44350165e-01  5.78636070e-02  9.10415051e-02  3.82657334e-01\n",
            "  1.15613644e-01  6.14769970e-01  2.37911526e-01  4.25864324e-01\n",
            "  7.53391570e-04  7.42824863e-01  3.99790116e-01  4.92114689e-01\n",
            "  4.42303414e-01  5.55802487e-01  3.68171869e-01  3.97040522e-01\n",
            "  2.95311005e-02  2.64567350e-01  2.10638514e-01  1.33623418e-01\n",
            "  3.82307531e-02  2.14726662e-01  2.83306566e-01  5.04190055e-01]\n"
          ]
        }
      ]
    },
    {
      "cell_type": "markdown",
      "source": [
        "Slope and Intercept of Linear Regression Model"
      ],
      "metadata": {
        "id": "snG3yKwGbGs_"
      }
    },
    {
      "cell_type": "code",
      "source": [
        "coefficient = regressor.coef_\n",
        "intercept = regressor.intercept_\n",
        "print('Coefficient', coefficient)\n",
        "print('Intercept', intercept)"
      ],
      "metadata": {
        "colab": {
          "base_uri": "https://localhost:8080/"
        },
        "id": "EF9p8YWAXqW0",
        "outputId": "ab6b23fe-68a9-412f-cff3-dbbb427d5a4c"
      },
      "execution_count": 20,
      "outputs": [
        {
          "output_type": "stream",
          "name": "stdout",
          "text": [
            "Coefficient [ 0.18108066 -0.00771913  0.10149083  0.04647057  0.04346576]\n",
            "Intercept 0.33915211970074793\n"
          ]
        }
      ]
    },
    {
      "cell_type": "markdown",
      "source": [
        "Performance Analysis of Linear Regression Model"
      ],
      "metadata": {
        "id": "-9TNFZ0ma8Y8"
      }
    },
    {
      "cell_type": "code",
      "source": [
        "R_square = r2_score(y_test, y_predict)\n",
        "print('Coefficient of Determination', R_square)"
      ],
      "metadata": {
        "colab": {
          "base_uri": "https://localhost:8080/"
        },
        "id": "no86EuEdYL-E",
        "outputId": "755fe315-89d3-4170-fef0-839af03bbe58"
      },
      "execution_count": 21,
      "outputs": [
        {
          "output_type": "stream",
          "name": "stdout",
          "text": [
            "Coefficient of Determination 0.23925310368394925\n"
          ]
        }
      ]
    },
    {
      "cell_type": "markdown",
      "source": [
        "Prediction On Random Data"
      ],
      "metadata": {
        "id": "mgLjK4YXdIFF"
      }
    },
    {
      "cell_type": "code",
      "source": [
        "#Predicting the value on new data point\n",
        "new_data_point = [[137,60,33.7,0.454,39]]\n",
        "transformed_data_point = sc.transform(new_data_point)  #storing the new random data point in variable transformed_data_point\n",
        "y_pred=regressor.predict(transformed_data_point)\n",
        "print(y_pred)"
      ],
      "metadata": {
        "colab": {
          "base_uri": "https://localhost:8080/"
        },
        "id": "rMIykVOwgAKs",
        "outputId": "f5054f3e-9831-4f40-9cc7-31c305233186"
      },
      "execution_count": 22,
      "outputs": [
        {
          "output_type": "stream",
          "name": "stdout",
          "text": [
            "[0.47590691]\n"
          ]
        }
      ]
    },
    {
      "cell_type": "markdown",
      "source": [
        "\n",
        "K Nearest Neighbor Algorithm"
      ],
      "metadata": {
        "id": "xo337bM-aUbZ"
      }
    },
    {
      "cell_type": "code",
      "source": [
        "k = 5\n",
        "knn = KNeighborsClassifier(n_neighbors=k)\n",
        "knn.fit(x_train, y_train)\n",
        "y_predict = knn.predict(x_test)"
      ],
      "metadata": {
        "id": "6r5EcnoJYo44"
      },
      "execution_count": 23,
      "outputs": []
    },
    {
      "cell_type": "markdown",
      "source": [
        "Performance Analysis"
      ],
      "metadata": {
        "id": "tqxUe5NZaoXO"
      }
    },
    {
      "cell_type": "code",
      "source": [
        "accuracy = accuracy_score(y_test, y_predict)\n",
        "print(\"Accuracy:\", accuracy)\n",
        "c_matrix=confusion_matrix(y_test, y_predict)\n",
        "print(\"Confusion Matrix:\")\n",
        "print(c_matrix)"
      ],
      "metadata": {
        "colab": {
          "base_uri": "https://localhost:8080/"
        },
        "id": "DWUx5fDGaRFs",
        "outputId": "366b716b-5c75-48af-9bbe-4b2b5aa9d638"
      },
      "execution_count": 24,
      "outputs": [
        {
          "output_type": "stream",
          "name": "stdout",
          "text": [
            "Accuracy: 0.7093023255813954\n",
            "Confusion Matrix:\n",
            "[[94 16]\n",
            " [34 28]]\n"
          ]
        }
      ]
    },
    {
      "cell_type": "markdown",
      "source": [
        "Random test values"
      ],
      "metadata": {
        "id": "oLBT9TLlg9pb"
      }
    },
    {
      "cell_type": "code",
      "source": [
        "y_pre=knn.predict(transformed_data_point)\n",
        "print(y_pre)"
      ],
      "metadata": {
        "colab": {
          "base_uri": "https://localhost:8080/"
        },
        "id": "J17KPASCgxL6",
        "outputId": "ed11efcb-22bb-438b-ebb2-5d1f07c13e1b"
      },
      "execution_count": 25,
      "outputs": [
        {
          "output_type": "stream",
          "name": "stdout",
          "text": [
            "[0]\n"
          ]
        }
      ]
    }
  ]
}

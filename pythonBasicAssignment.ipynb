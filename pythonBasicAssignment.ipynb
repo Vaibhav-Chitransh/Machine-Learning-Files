{
  "nbformat": 4,
  "nbformat_minor": 0,
  "metadata": {
    "colab": {
      "provenance": [],
      "authorship_tag": "ABX9TyMOIeJBPWaJecLRXGFh+p7Z"
    },
    "kernelspec": {
      "name": "python3",
      "display_name": "Python 3"
    },
    "language_info": {
      "name": "python"
    }
  },
  "cells": [
    {
      "cell_type": "code",
      "execution_count": null,
      "metadata": {
        "id": "6ipM74bEzoRh"
      },
      "outputs": [],
      "source": [
        "# write a function to perform matrix multiplication using numpy\n",
        "import numpy as np"
      ]
    },
    {
      "cell_type": "code",
      "source": [
        "x = [[2,4], [1,0]]"
      ],
      "metadata": {
        "id": "EFDEG3He0F7o"
      },
      "execution_count": null,
      "outputs": []
    },
    {
      "cell_type": "code",
      "source": [
        "y = [[0,1],[0,1]]"
      ],
      "metadata": {
        "id": "LMOaAIJJ0Spm"
      },
      "execution_count": null,
      "outputs": []
    },
    {
      "cell_type": "code",
      "source": [
        "arr1 = np.array(x)\n",
        "arr2 = np.array(y)\n",
        "arr1.size"
      ],
      "metadata": {
        "colab": {
          "base_uri": "https://localhost:8080/"
        },
        "id": "z8a4YcaT0YYK",
        "outputId": "b9cb6974-1cba-4c8c-e350-c74179a03c73"
      },
      "execution_count": null,
      "outputs": [
        {
          "output_type": "execute_result",
          "data": {
            "text/plain": [
              "4"
            ]
          },
          "metadata": {},
          "execution_count": 6
        }
      ]
    },
    {
      "cell_type": "code",
      "source": [
        "np.dot(arr1, arr2)"
      ],
      "metadata": {
        "colab": {
          "base_uri": "https://localhost:8080/"
        },
        "id": "DQCui7Ts0eJZ",
        "outputId": "7e59e0ae-8044-4e83-d4a1-b6104790cc0e"
      },
      "execution_count": null,
      "outputs": [
        {
          "output_type": "execute_result",
          "data": {
            "text/plain": [
              "array([[0, 6],\n",
              "       [0, 1]])"
            ]
          },
          "metadata": {},
          "execution_count": 8
        }
      ]
    },
    {
      "cell_type": "code",
      "source": [
        "def matrixMult(arr1, arr2):\n",
        "    print(np.dot(arr1, arr2))\n",
        "\n",
        "matrixMult(arr1, arr2)"
      ],
      "metadata": {
        "colab": {
          "base_uri": "https://localhost:8080/"
        },
        "id": "f-Pouwkj2j0m",
        "outputId": "8cc827f5-48ee-4c84-8fec-25ff0080ccde"
      },
      "execution_count": null,
      "outputs": [
        {
          "output_type": "stream",
          "name": "stdout",
          "text": [
            "[[0 6]\n",
            " [0 1]]\n"
          ]
        }
      ]
    },
    {
      "cell_type": "code",
      "source": [
        "list1 = [2,3,4]\n",
        "\n",
        "def multiply(x):\n",
        "    for i in list1:\n",
        "        print(5*i, end=\" \")\n",
        "\n",
        "multiply(list1)"
      ],
      "metadata": {
        "colab": {
          "base_uri": "https://localhost:8080/"
        },
        "id": "NkcHhgq82xGu",
        "outputId": "5eb0e234-6fbc-4a78-f28d-67de727cfe00"
      },
      "execution_count": null,
      "outputs": [
        {
          "output_type": "stream",
          "name": "stdout",
          "text": [
            "10 15 20 "
          ]
        }
      ]
    },
    {
      "cell_type": "code",
      "source": [
        "def calculate(a, b):\n",
        "    return a+b\n",
        "\n",
        "print(calculate(2,6))"
      ],
      "metadata": {
        "colab": {
          "base_uri": "https://localhost:8080/"
        },
        "id": "V30uPIYJ4vre",
        "outputId": "dfb971c5-9612-4c93-ea2f-d139e77ffd86"
      },
      "execution_count": null,
      "outputs": [
        {
          "output_type": "stream",
          "name": "stdout",
          "text": [
            "8\n"
          ]
        }
      ]
    },
    {
      "cell_type": "code",
      "source": [
        "dictt = {1:1, 2:4, 3:9, 4:16, 5:25}\n",
        "\n",
        "for i in dictt:\n",
        "    print(\" -> \", dictt[i])"
      ],
      "metadata": {
        "colab": {
          "base_uri": "https://localhost:8080/"
        },
        "id": "C7rpsM5i5Ktf",
        "outputId": "32c48f89-b151-4442-bf5a-bdabaaddb095"
      },
      "execution_count": null,
      "outputs": [
        {
          "output_type": "stream",
          "name": "stdout",
          "text": [
            " ->  1\n",
            " ->  4\n",
            " ->  9\n",
            " ->  16\n",
            " ->  25\n"
          ]
        }
      ]
    },
    {
      "cell_type": "code",
      "source": [
        "dict1 = {\"class\": {\"student\":{\"name\":\"Ved\",\"marks\":{\"physics\":70, \"history\":80}}}}\n",
        "print(dict1[\"class\"])"
      ],
      "metadata": {
        "colab": {
          "base_uri": "https://localhost:8080/"
        },
        "id": "SrkNgO1m5qr_",
        "outputId": "246e8661-8972-495a-beb7-ac2206dcbc30"
      },
      "execution_count": null,
      "outputs": [
        {
          "output_type": "stream",
          "name": "stdout",
          "text": [
            "{'student': {'name': 'Ved', 'marks': {'physics': 70, 'history': 80}}}\n"
          ]
        }
      ]
    },
    {
      "cell_type": "code",
      "source": [
        "dict2 = {\"friendName\": \"Rishi\", \"profession\":\"Web Developer\", \"year\": 2}\n",
        "\n",
        "del(dict1[\"year\"])\n",
        "print(dict1)"
      ],
      "metadata": {
        "colab": {
          "base_uri": "https://localhost:8080/"
        },
        "id": "0HvcBrKR6hTn",
        "outputId": "671d6753-8bbc-4004-b760-2b679e88c6ae"
      },
      "execution_count": null,
      "outputs": [
        {
          "output_type": "stream",
          "name": "stdout",
          "text": [
            "{'friendName': 'Rishi', 'profession': 'Web Developer'}\n"
          ]
        }
      ]
    },
    {
      "cell_type": "code",
      "source": [
        "dict1[\"profession\"]"
      ],
      "metadata": {
        "colab": {
          "base_uri": "https://localhost:8080/",
          "height": 35
        },
        "id": "hnCD7scc700P",
        "outputId": "e5db5ec0-3a25-4275-8b45-1c7e6b84e9c7"
      },
      "execution_count": null,
      "outputs": [
        {
          "output_type": "execute_result",
          "data": {
            "text/plain": [
              "'Web Developer'"
            ],
            "application/vnd.google.colaboratory.intrinsic+json": {
              "type": "string"
            }
          },
          "metadata": {},
          "execution_count": 33
        }
      ]
    }
  ]
}
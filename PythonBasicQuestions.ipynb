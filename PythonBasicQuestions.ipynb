{
  "nbformat": 4,
  "nbformat_minor": 0,
  "metadata": {
    "colab": {
      "provenance": [],
      "authorship_tag": "ABX9TyMvJB4pvfTaFKn0LMux0mek"
    },
    "kernelspec": {
      "name": "python3",
      "display_name": "Python 3"
    },
    "language_info": {
      "name": "python"
    }
  },
  "cells": [
    {
      "cell_type": "code",
      "execution_count": null,
      "metadata": {
        "colab": {
          "base_uri": "https://localhost:8080/"
        },
        "id": "C4iSjzkcykDV",
        "outputId": "2cd4ebec-f87c-4dff-b0d4-b140cd98c7bc"
      },
      "outputs": [
        {
          "output_type": "stream",
          "name": "stdout",
          "text": [
            "6\n",
            "12\n",
            "18\n",
            "24\n",
            "30\n",
            "36\n",
            "42\n",
            "48\n",
            "54\n",
            "60\n"
          ]
        }
      ],
      "source": [
        "i = 1\n",
        "while(i <= 10):\n",
        "    print(6*i)\n",
        "    i= i+1\n",
        "\n"
      ]
    },
    {
      "cell_type": "code",
      "source": [
        "n = int(input(\"Enter the value of n\"))\n",
        "i = 1\n",
        "\n",
        "while(i <= n):\n",
        "    j = 1\n",
        "    while(j <= i):\n",
        "      print(\"*\", end=\" \")\n",
        "      j = j + 1\n",
        "\n",
        "    i = i + 1\n",
        "    print(\"\\n\")\n"
      ],
      "metadata": {
        "colab": {
          "base_uri": "https://localhost:8080/"
        },
        "id": "VaaMKA6Ly0P3",
        "outputId": "77b10405-4f81-4f1c-93d7-4d49f2fd1f33"
      },
      "execution_count": 1,
      "outputs": [
        {
          "output_type": "stream",
          "name": "stdout",
          "text": [
            "Enter the value of n5\n",
            "* \n",
            "\n",
            "* * \n",
            "\n",
            "* * * \n",
            "\n",
            "* * * * \n",
            "\n",
            "* * * * * \n",
            "\n"
          ]
        }
      ]
    },
    {
      "cell_type": "code",
      "source": [
        "import numpy as np"
      ],
      "metadata": {
        "id": "Waw4fjHMy0Sm"
      },
      "execution_count": null,
      "outputs": []
    },
    {
      "cell_type": "code",
      "source": [
        "#Recursion OP\n",
        "def printCounting(n):\n",
        "  if(n == 0):\n",
        "    return\n",
        "\n",
        "  printCounting(n-1)\n",
        "  print(n)\n",
        "\n",
        "printCounting(5)"
      ],
      "metadata": {
        "colab": {
          "base_uri": "https://localhost:8080/"
        },
        "id": "xqxq6mEJy0VV",
        "outputId": "938f9eb8-1635-4162-8de2-95e60b960b4e"
      },
      "execution_count": null,
      "outputs": [
        {
          "output_type": "stream",
          "name": "stdout",
          "text": [
            "1\n",
            "2\n",
            "3\n",
            "4\n",
            "5\n"
          ]
        }
      ]
    },
    {
      "cell_type": "code",
      "source": [
        "def checkEvenOdd(n):\n",
        "  if(n % 2 == 0):\n",
        "    print(\"The number is even\")\n",
        "\n",
        "  else:\n",
        "    print(\"The number is odd\")\n",
        "\n",
        "n = int(input(\"Enter the number\"))\n",
        "checkEvenOdd(n)"
      ],
      "metadata": {
        "colab": {
          "base_uri": "https://localhost:8080/"
        },
        "id": "V8uhQH9Ky0Xr",
        "outputId": "a5967309-4387-4cbc-ec64-2d8aba22dbed"
      },
      "execution_count": null,
      "outputs": [
        {
          "output_type": "stream",
          "name": "stdout",
          "text": [
            "Enter the number51496\n",
            "The number is even\n"
          ]
        }
      ]
    },
    {
      "cell_type": "code",
      "source": [
        "import pandas as pd"
      ],
      "metadata": {
        "id": "KjWbI9Ruy0aV"
      },
      "execution_count": null,
      "outputs": []
    },
    {
      "cell_type": "code",
      "source": [
        "data1 = {'Name':['Jai', 'Princi', 'Gaurav', 'Anuj'],\n",
        "         'Age': [27, 47, 23, 63],\n",
        "         'Percentage': [99,87, 85, 76],\n",
        "         'Address':['Lucknow', 'Kanpur', 'Allahabad', 'Kannauj']}"
      ],
      "metadata": {
        "id": "kWOtSz2Hy0c0"
      },
      "execution_count": null,
      "outputs": []
    },
    {
      "cell_type": "code",
      "source": [],
      "metadata": {
        "id": "pRcYRMqcy0h1"
      },
      "execution_count": null,
      "outputs": []
    },
    {
      "cell_type": "code",
      "source": [],
      "metadata": {
        "id": "PjO9imehy0kd"
      },
      "execution_count": null,
      "outputs": []
    },
    {
      "cell_type": "code",
      "source": [],
      "metadata": {
        "id": "xKmwbDWoy0m9"
      },
      "execution_count": null,
      "outputs": []
    },
    {
      "cell_type": "code",
      "source": [],
      "metadata": {
        "id": "4rmqT3try0pt"
      },
      "execution_count": null,
      "outputs": []
    },
    {
      "cell_type": "code",
      "source": [],
      "metadata": {
        "id": "xcdh9jnjy0sN"
      },
      "execution_count": null,
      "outputs": []
    },
    {
      "cell_type": "code",
      "source": [],
      "metadata": {
        "id": "TwEFFRtby0vV"
      },
      "execution_count": null,
      "outputs": []
    }
  ]
}